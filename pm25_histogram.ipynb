{
 "cells": [
  {
   "cell_type": "code",
   "execution_count": null,
   "id": "acb38858",
   "metadata": {},
   "outputs": [],
   "source": [
    "\n",
    "import pandas as pd\n",
    "import matplotlib.pyplot as plt\n",
    "\n",
    "# Load the data\n",
    "file_path = \"air_data.csv\"  # Ensure the file is in the same directory as the notebook\n",
    "df = pd.read_csv(file_path)\n",
    "\n",
    "# Display the first few rows\n",
    "df.head()\n"
   ]
  },
  {
   "cell_type": "code",
   "execution_count": null,
   "id": "5d53433b",
   "metadata": {},
   "outputs": [],
   "source": [
    "\n",
    "# Plot the histogram for PM2.5 (standard condition)\n",
    "plt.figure(figsize=(10, 6))\n",
    "plt.hist(df[\"PM2.5 (std)\"], bins=20, edgecolor='black', alpha=0.7)\n",
    "plt.xlabel(\"PM2.5 (µg/m³)\")\n",
    "plt.ylabel(\"Frequency\")\n",
    "plt.title(\"Histogram of PM2.5 Levels\")\n",
    "plt.grid(axis='y', linestyle='--', alpha=0.7)\n",
    "plt.show()\n"
   ]
  }
 ],
 "metadata": {},
 "nbformat": 4,
 "nbformat_minor": 5
}